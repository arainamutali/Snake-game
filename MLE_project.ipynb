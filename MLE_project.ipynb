{
  "nbformat": 4,
  "nbformat_minor": 0,
  "metadata": {
    "colab": {
      "provenance": []
    },
    "kernelspec": {
      "name": "python3",
      "display_name": "Python 3"
    },
    "language_info": {
      "name": "python"
    }
  },
  "cells": [
    {
      "cell_type": "code",
      "execution_count": null,
      "metadata": {
        "id": "gmGzq2tRcHJC",
        "colab": {
          "base_uri": "https://localhost:8080/"
        },
        "outputId": "ee884a86-29b6-4c77-a684-7a2b3e8e251b"
      },
      "outputs": [
        {
          "output_type": "stream",
          "name": "stdout",
          "text": [
            "10\n"
          ]
        }
      ],
      "source": [
        "#what is mle/ formula for mle\n",
        "#https://fedmug.github.io/kbtu-ml-book/probabilistic_models/Probabilistic.html"
      ]
    },
    {
      "cell_type": "code",
      "source": [
        "'''{admonition} What is the first step with MLE?\n",
        ":class: dropdown\n",
        "\n",
        "Firstly, we need to make an assumption as to which parametric class of distributions is generating the data.\n",
        "Each such class is a family of distributions indexed by a finite number of parameters.\n",
        "e.g., the class of normal distributions is a family of distributions indexed by its mean \\\\(\\mu\\\\) and standard deviation \\\\(\\sigma\\\\).\n",
        "\n",
        "We’ll let the data pick out a particular element of the class by pinning down the parameters.\n",
        "The parameter estimates so produced will be called maximum likelihood estimates.'''"
      ],
      "metadata": {
        "id": "ApdPEHB74Ds6"
      },
      "execution_count": null,
      "outputs": []
    },
    {
      "cell_type": "code",
      "source": [
        "#counting billioners example(what is it)"
      ],
      "metadata": {
        "id": "H2xMSzY2lcWX"
      },
      "execution_count": null,
      "outputs": []
    },
    {
      "cell_type": "code",
      "source": [
        "#pmf of poisson\n",
        "'''{admonition} What is The Probability Mass Function (PMF) of a Poisson-distributed random variable \\(X\\) with parameter \\(\\lambda\\)?\n",
        ":class: dropdown\n",
        "\\[\n",
        "P(X = k) = \\frac{e^{-\\lambda} \\cdot \\lambda^k}{k!}\n",
        "\\]\n",
        "\n",
        "where:\n",
        "- \\(k\\) is a non-negative integer representing the number of events,\n",
        "- \\(\\lambda\\) is the average rate of events per unit of time or space,\n",
        "- \\(e\\) is the base of the natural logarithm, and\n",
        "- \\(k!\\) is the factorial of \\(k\\).\n",
        "'''"
      ],
      "metadata": {
        "id": "XblQShG25J-z"
      },
      "execution_count": null,
      "outputs": []
    },
    {
      "cell_type": "code",
      "source": [
        "#conditional distributions"
      ],
      "metadata": {
        "id": "i2X3XVcL7vL0"
      },
      "execution_count": null,
      "outputs": []
    },
    {
      "cell_type": "code",
      "source": [
        "from jupyterquiz import display_quiz\n",
        "import json\n",
        "from base64 import b64encode\n",
        "\n",
        "def get_spanned_encoded_q(q, q_name):\n",
        "    byte_code = b64encode(bytes(json.dumps(q), 'utf8'))\n",
        "    return f'<span style=\"display:none\" id=\"{q_name}\">{byte_code.decode()}</span>'\n",
        "quiz_mle1 = [{\n",
        "    \"question\": \"Select the key components of MLE\",\n",
        "    \"type\": \"many_choice\",\n",
        "    \"answers\": [\n",
        "        {\n",
        "            \"answer\": \"Likelihood Function\",\n",
        "            \"correct\": True,\n",
        "            \"feedback\": \" The likelihood function, denoted by $L(θ | D)$, is a function of the model parameters $θ$ and the observed data $D$.\"\n",
        "        },\n",
        "        {\n",
        "            \"answer\": \"Log-Likelihood Function\",\n",
        "            \"correct\": True,\n",
        "            \"feedback\": \"Taking the logarithm makes computations easier and helps prevent numerical underflow for large datasets.\"\n",
        "        },\n",
        "        {\n",
        "            \"answer\": \"Bayesian estimation\",\n",
        "            \"correct\": False,\n",
        "            \"feedback\": \"Bayesian Estimation involves incorporating prior information into the estimation process, which is different from the frequentist approach of MLE.\"\n",
        "        },\n",
        "        {\n",
        "            \"answer\": \"MLE Objective\",\n",
        "            \"correct\": True,\n",
        "            \"feedback\": \"The MLE objective is to find the parameter values $θ$ that maximize the log-likelihood function:\"\n",
        "        },\n",
        "        {\n",
        "            \"answer\": \"Central Limit Theorem\",\n",
        "            \"correct\": False,\n",
        "            \"feedback\": \"While the Central Limit Theorem is important in statistics, it's not a key component of MLE, which focuses on finding parameter values that maximize the likelihood function.\"\n",
        "        },\n",
        "        {\n",
        "            \"answer\": \"Hessian Matrix\",\n",
        "            \"correct\": False,\n",
        "            \"feedback\": \"It comes into play when assessing the variance of the parameter estimates.\"\n",
        "        },\n",
        "    ]\n",
        "}]"
      ],
      "metadata": {
        "id": "5AKGXT3r4DBZ"
      },
      "execution_count": null,
      "outputs": []
    },
    {
      "cell_type": "code",
      "source": [
        "get_spanned_encoded_q(quiz_mle1, \"quiz_mle_key\")"
      ],
      "metadata": {
        "id": "ONTtc8-U4RoZ"
      },
      "execution_count": null,
      "outputs": []
    },
    {
      "cell_type": "code",
      "source": [
        "display_quiz(\"#quiz_mle_key\")"
      ],
      "metadata": {
        "id": "mrLeVKzx4UGH"
      },
      "execution_count": null,
      "outputs": []
    },
    {
      "cell_type": "code",
      "source": [
        "#mle"
      ],
      "metadata": {
        "id": "99nLIUwP4Wwb"
      },
      "execution_count": null,
      "outputs": []
    },
    {
      "cell_type": "code",
      "source": [
        "#mle maximizing L function like a q/a   -------probably i have to do quiz in here\n",
        "'''{admonition} How to find the $\\hat{\\beta}$ that yields the maximum likelihood value?\n",
        ":class: dropdown\n",
        "$$\n",
        "\\text{maxL}(\\beta) \\quad $$\n",
        "\n",
        "'''"
      ],
      "metadata": {
        "colab": {
          "base_uri": "https://localhost:8080/",
          "height": 83
        },
        "id": "TjBdBycW8jci",
        "outputId": "bdb0918f-1685-4910-aefc-058e5353240f"
      },
      "execution_count": 3,
      "outputs": [
        {
          "output_type": "execute_result",
          "data": {
            "text/plain": [
              "'{admonition} How to find the $\\\\hat{\\x08eta}$ that yields the maximum likelihood value?\\n:class: dropdown\\n$$\\n\\text{maxL}(\\x08eta) \\\\quad \\text{generally easier to maximize the log-likelihood (consider differentiating } f(x) = xe^{x} \\text{ VS } f(x) = \\\\log(x) + x\\n$$\\n\\nGiven that taking a logarithm is a monotone increasing transformation, a maximizer of the likelihood function will also be a maximizer of the log-likelihood function.\\n'"
            ],
            "application/vnd.google.colaboratory.intrinsic+json": {
              "type": "string"
            }
          },
          "metadata": {},
          "execution_count": 3
        }
      ]
    },
    {
      "cell_type": "code",
      "source": [
        "#text\n",
        "'''\n",
        "$$\n",
        "\\text{maxL}(\\beta) \\quad \\text{generally easier to maximize the log-likelihood (consider differentiating } f(x) = xe^{x} \\text{ VS } f(x) = \\log(x) + x\n",
        "$$\n",
        "\n",
        "Given that taking a logarithm is a monotone increasing transformation, a maximizer of the likelihood function will also be a maximizer of the log-likelihood function.\n",
        "'''"
      ],
      "metadata": {
        "id": "a2ieUHlFAQhi"
      },
      "execution_count": null,
      "outputs": []
    },
    {
      "cell_type": "code",
      "source": [
        "'''{admonition} Try to find log-likelihood function in our case:\n",
        ":class: dropdown\n",
        "the log-likelihood is\n",
        "\n",
        "$$\n",
        "\\log L(\\beta) = \\log\\left(f(y_1; \\beta) \\cdot f(y_2; \\beta) \\cdot \\ldots \\cdot f(y_n; \\beta)\\right) = \\sum_{i=1}^{n} \\log\\left(f(y_i; \\beta)\\right) = \\sum_{i=1}^{n} \\log\\left(\\mu_i^{y_i}e^{-\\mu_i/y_i!}\\right) = \\sum_{i=1}^{n} \\left(y_i \\log(\\mu_i)\\right) - \\sum_{i=1}^{n} \\mu_i - \\sum_{i=1}^{n} \\log(y_i!)\n",
        "$$\n",
        "'''\n"
      ],
      "metadata": {
        "id": "P6GLZwi3ACI-"
      },
      "execution_count": null,
      "outputs": []
    },
    {
      "cell_type": "code",
      "source": [
        "#The MLE of the Poisson to the Poisson for... no numeric solution text"
      ],
      "metadata": {
        "id": "VxJv0d_GA3K_"
      },
      "execution_count": null,
      "outputs": []
    },
    {
      "cell_type": "code",
      "source": [
        "#mle numeric: only intro words and code for newton raphson"
      ],
      "metadata": {
        "id": "1zSRyo6UA6z6"
      },
      "execution_count": null,
      "outputs": []
    },
    {
      "cell_type": "code",
      "source": [
        "'''{admonition} note that the increase in $\\log L(\\beta)$ becomes smaller with each iteration.:\n",
        ":class: dropdown\n",
        "This is because the gradient is approaching 0 as we reach the maximum, and therefore the numerator in our updating equation is becoming smaller.\n",
        "'''"
      ],
      "metadata": {
        "id": "jrevGXD-CIN4"
      },
      "execution_count": null,
      "outputs": []
    },
    {
      "cell_type": "code",
      "source": [
        "#mle stats our example"
      ],
      "metadata": {
        "id": "8t00GLmVBKwH"
      },
      "execution_count": null,
      "outputs": []
    },
    {
      "cell_type": "code",
      "source": [
        "#one more quiz from the original article exersize if ill be able to do"
      ],
      "metadata": {
        "id": "yvIetz1ACu3b"
      },
      "execution_count": null,
      "outputs": []
    }
  ]
}